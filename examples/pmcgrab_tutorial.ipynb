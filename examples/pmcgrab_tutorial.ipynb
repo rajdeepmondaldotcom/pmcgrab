{
  "cells": [
    {
      "cell_type": "markdown",
      "metadata": {
        "vscode": {
          "languageId": "raw"
        }
      },
      "source": [
        "# PMCGrab Tutorial\n",
        "\n",
        "**Welcome to PMCGrab!** This notebook will take you through the complete process of:\n",
        "\n",
        "1. Fetching scientific papers from PubMed Central (PMC)\n",
        "2. Converting messy XML to clean, AI-ready JSON\n",
        "3. Exploring the structured data\n",
        "<!-- 4. Preparing data for AI/ML workflows (RAG, vector databases, LLM training) -->\n",
        "\n",
        "**Prerequisites:** Make sure you have PMCGrab installed:\n",
        "```bash\n",
        "uv add pmcgrab\n",
        "# or\n",
        "pip install pmcgrab\n",
        "```\n"
      ]
    },
    {
      "cell_type": "markdown",
      "metadata": {
        "vscode": {
          "languageId": "raw"
        }
      },
      "source": [
        "## What Makes PMCGrab Special?\n",
        "\n",
        "PMCGrab transforms this messy process:\n",
        "\n",
        "```xml\n",
        "<sec sec-type=\"intro\">\n",
        "  <title>Introduction</title>\n",
        "  <p>Machine learning <xref ref-type=\"bibr\" rid=\"B1\">1</xref> has revolutionized...\n",
        "    <fig id=\"F1\"><graphic xlink:href=\"figure1.jpg\"/></fig>\n",
        "  </p>\n",
        "</sec>\n",
        "```\n",
        "\n",
        "Into this clean structure:\n",
        "\n",
        "```json\n",
        "{\n",
        "  \"body\": {\n",
        "    \"Introduction\": \"Machine learning has revolutionized...\"\n",
        "  }\n",
        "}\n",
        "```\n"
      ]
    },
    {
      "cell_type": "markdown",
      "metadata": {
        "vscode": {
          "languageId": "raw"
        }
      },
      "source": [
        "## Setup and Imports"
      ]
    },
    {
      "cell_type": "code",
      "execution_count": 1,
      "metadata": {},
      "outputs": [
        {
          "name": "stdout",
          "output_type": "stream",
          "text": [
            "All imports successful!\n",
            "Ready to process some scientific literature!\n",
            "Tip: If you see any import errors, make sure you installed PMCGrab using 'uv add pmcgrab' or 'pip install pmcgrab'\n"
          ]
        }
      ],
      "source": [
        "# Import required libraries\n",
        "import json\n",
        "import pandas as pd\n",
        "from pathlib import Path\n",
        "from collections import Counter\n",
        "\n",
        "# PMCGrab imports\n",
        "from pmcgrab.application.processing import process_single_pmc\n",
        "\n",
        "print(\"All imports successful!\")\n",
        "print(\"Ready to process some scientific literature!\")\n",
        "print(\"Tip: If you see any import errors, make sure you installed PMCGrab using 'uv add pmcgrab' or 'pip install pmcgrab'\")"
      ]
    },
    {
      "cell_type": "markdown",
      "metadata": {
        "vscode": {
          "languageId": "raw"
        }
      },
      "source": [
        "## Step 1: Process Your First Paper\n",
        "\n",
        "Let's start with a real paper from PMC. We'll use **PMC7114487** - a COVID-19 research paper that's freely available.\n"
      ]
    },
    {
      "cell_type": "code",
      "execution_count": 2,
      "metadata": {},
      "outputs": [
        {
          "name": "stdout",
          "output_type": "stream",
          "text": [
            "Fetching PMC7114487 from PubMed Central...\n",
            "This might take 5-15 seconds...\n",
            "\n",
            "Success! Paper processed successfully!\n",
            "Title: Participation of the phosphatidylinositol 3-kinase/Akt pathway in Junín virus replication in vitro\n",
            "Authors: 2\n",
            "Sections: 11\n"
          ]
        }
      ],
      "source": [
        "# Process a single paper\n",
        "pmcid = \"7114487\"\n",
        "print(f\"Fetching PMC{pmcid} from PubMed Central...\")\n",
        "print(\"This might take 5-15 seconds...\")\n",
        "\n",
        "# The magic happens here!\n",
        "paper_data = process_single_pmc(pmcid)\n",
        "\n",
        "if paper_data:\n",
        "    print(\"\\nSuccess! Paper processed successfully!\")\n",
        "    print(f\"Title: {paper_data['title']}\")\n",
        "    print(f\"Authors: {len(paper_data['authors'])}\")\n",
        "    print(f\"Sections: {len(paper_data['body'])}\")\n",
        "else:\n",
        "    print(\"Failed to process the paper\")\n"
      ]
    },
    {
      "cell_type": "markdown",
      "metadata": {
        "vscode": {
          "languageId": "raw"
        }
      },
      "source": [
        "## Step 2: Explore the Paper Structure\n",
        "\n",
        "Let's dive deep into what PMCGrab extracted for us:\n"
      ]
    },
    {
      "cell_type": "code",
      "execution_count": null,
      "metadata": {},
      "outputs": [
        {
          "name": "stdout",
          "output_type": "stream",
          "text": [
            "PAPER SECTIONS:\n",
            "==================================================\n",
            "\n",
            "Section 1:\n",
            "   193 words | 1,314 characters\n",
            "   Preview: Junín virus (JUNV), agent of the Argentine haemorrhagic fever, belongs to the Arenaviridae family, a group of enveloped viruses with genome composed of two negative-sense single stranded RNA segments...\n",
            "\n",
            "Section 2:\n",
            "   221 words | 1,358 characters\n",
            "   Preview: In this study we examined the role of PI3K/Akt signalling pathway during JUNV in vitro infection. In first place, we tested whether JUNV infection would lead to activation of PI3K/Akt pathway by exami...\n",
            "\n",
            "Section 3:\n",
            "   294 words | 1,788 characters\n",
            "   Preview: Taken into consideration that Akt activation was an early event during infection, we speculated this activation might be due to the initial virus–host cell interactions. To test this hypothesis we ino...\n",
            "\n",
            "Section 4:\n",
            "   49 words | 282 characters\n",
            "   Preview: The fact that the level of phosporylation of Akt in JUNV infected cells analyzed at later times p.i. (6, 12 and 18 h p.i.) did not differ from non-infected cultures prompted us to conclude that activa...\n",
            "\n",
            "Section 5:\n",
            "   88 words | 592 characters\n",
            "   Preview: Taken into consideration that endocytic uptake is also an early event in virus cycle and that activation of PI3K/Akt pathway has been linked to the entry of Ebola virus (Saeed et al., 2008) and rhinov...\n",
            "\n",
            "Section 6:\n",
            "   137 words | 887 characters\n",
            "   Preview: As can be seen in Fig. 1e, treatment of Vero cells with 40 μM chlorpromazine abolished Akt phosphorylation induced by JUNV infection, strongly suggesting that entry of virus into cells is responsible...\n",
            "\n",
            "Section 7:\n",
            "   151 words | 901 characters\n",
            "   Preview: In view that Akt constitutes a major downstream effector of PI3K, we next analyzed phosphorylation of Akt induced by JUNV in the presence of Ly294002, a specific inhibitor of PI3K. On this purpose, Ve...\n",
            "\n",
            "Section 8:\n",
            "   462 words | 2,957 characters\n",
            "   Preview: To investigate whether the activation of Akt by JUNV plays a role in virus replication, we examined the effect of the specific PI3K inhibitor, Ly294002 on virus production in Vero and BHK-21 cells. As...\n",
            "\n",
            "Section 9:\n",
            "   416 words | 2,607 characters\n",
            "   Preview: Addition of Ly294002 at different times p.i. during JUNV multiplication cycle showed that the inhibition was exerted during early times of infection, losing its effect when added after 3 h p.i. (Fig....\n",
            "\n",
            "Section 10:\n",
            "   92 words | 606 characters\n",
            "   Preview: In this paper we demonstrate that JUNV infection of cell cultures is able to activate PI3K/Akt signalling pathway at an early stage of infection. This activation, mediated by virus internalization, wo...\n",
            "\n",
            "Section 11:\n",
            "   286 words | 1,869 characters\n",
            "   Preview: In view that it has been reported for SARS-CoV, that activation of PI3K was necessary not only for virus multiplication during acute infection but for the establishment of persistence as well (Mizutan...\n"
          ]
        }
      ],
      "source": [
        "# Explore the paper sections (the gold for RAG!)\n",
        "print(\"PAPER SECTIONS:\")\n",
        "print(\"=\" * 50)\n",
        "\n",
        "for section_name, content in paper_data['body'].items():\n",
        "    word_count = len(content.split())\n",
        "    char_count = len(content)\n",
        "\n",
        "    print(f\"\\n{section_name}:\")\n",
        "    print(f\"   {word_count:,} words | {char_count:,} characters\")\n",
        "\n",
        "    # Show preview\n",
        "    preview = content[:200].replace('\\n', ' ').strip()\n",
        "    print(f\"   Preview: {preview}...\")\n"
      ]
    },
    {
      "cell_type": "markdown",
      "metadata": {
        "vscode": {
          "languageId": "raw"
        }
      },
      "source": [
        "## Step 3: Batch Processing - Build a Dataset\n",
        "\n",
        "Now let's process multiple papers to build a small dataset. We'll use papers from different domains:\n"
      ]
    },
    {
      "cell_type": "code",
      "execution_count": null,
      "metadata": {},
      "outputs": [
        {
          "name": "stdout",
          "output_type": "stream",
          "text": [
            " Processing 3 papers for our dataset...\n",
            " This will take 1-3 minutes...\n",
            "\n",
            " Processing PMC7114487: COVID-19 pandemic response and lessons learned\n",
            "   Success! 'Participation of the phosphatidylinositol 3-kinase...'\n",
            "\n",
            " Processing PMC3084273: Machine learning approaches in genomics\n",
            "   Success! 'Functional Interaction of Nuclear Domain 10 and It...'\n",
            "\n",
            " Processing PMC7181753: Single-cell transcriptomes of human skin\n",
            "   Success! 'Single-cell transcriptomes of the human skin revea...'\n",
            "\n",
            " Processing complete!\n",
            " Successful: 3\n",
            " Failed: 0\n",
            " Dataset size: 3 papers\n"
          ]
        }
      ],
      "source": [
        "paper_collection = {\n",
        "    \"7114487\": \"COVID-19 pandemic response and lessons learned\",\n",
        "    \"3084273\": \"Machine learning approaches in genomics\",\n",
        "    \"7181753\": \"Single-cell transcriptomes of human skin\"\n",
        "}\n",
        "\n",
        "print(f\" Processing {len(paper_collection)} papers for our dataset...\")\n",
        "print(\" This will take 1-3 minutes...\\n\")\n",
        "\n",
        "# Storage for our dataset\n",
        "dataset = {}\n",
        "processing_stats = {\"successful\": 0, \"failed\": 0}\n",
        "\n",
        "for pmcid, description in paper_collection.items():\n",
        "    print(f\" Processing PMC{pmcid}: {description}\")\n",
        "\n",
        "    try:\n",
        "        data = process_single_pmc(pmcid)\n",
        "        if data:\n",
        "            dataset[pmcid] = data\n",
        "            processing_stats[\"successful\"] += 1\n",
        "            print(f\"   Success! '{data['title'][:50]}...'\")\n",
        "        else:\n",
        "            processing_stats[\"failed\"] += 1\n",
        "            print(f\"   Failed to process PMC{pmcid}\")\n",
        "    except Exception as e:\n",
        "        processing_stats[\"failed\"] += 1\n",
        "        print(f\"   Error: {e}\")\n",
        "\n",
        "    print()  # Empty line for readability\n",
        "\n",
        "print(f\" Processing complete!\")\n",
        "print(f\" Successful: {processing_stats['successful']}\")\n",
        "print(f\" Failed: {processing_stats['failed']}\")\n",
        "print(f\" Dataset size: {len(dataset)} papers\")\n"
      ]
    },
    {
      "cell_type": "markdown",
      "metadata": {
        "vscode": {
          "languageId": "raw"
        }
      },
      "source": [
        "## Step 4: Prepare Data for AI/ML Workflows\n",
        "\n",
        "### RAG (Retrieval-Augmented Generation) Preparation\n",
        "\n",
        "Perfect for feeding into vector databases like Pinecone, Weaviate, or ChromaDB:\n"
      ]
    },
    {
      "cell_type": "code",
      "execution_count": null,
      "metadata": {},
      "outputs": [
        {
          "name": "stdout",
          "output_type": "stream",
          "text": [
            "Created 23 RAG chunks from 3 papers\n",
            "Average chunk size: 595 words\n",
            "\n",
            "SAMPLE RAG CHUNK:\n",
            "==================================================\n",
            "ID: PMC7114487_abstract\n",
            "Section: Abstract\n",
            "Word Count: 183\n",
            "Content Preview: In this paper we demonstrate that infection of cell cultures with the arenavirus Junín (JUNV), agent of the argentine haemorrhagic fever, leads to the activation of PI3K/Akt signalling pathway. Phosph...\n"
          ]
        }
      ],
      "source": [
        "# Prepare chunks for RAG pipeline\n",
        "rag_chunks = []\n",
        "\n",
        "for pmcid, paper in dataset.items():\n",
        "    # Add abstract as a chunk\n",
        "    rag_chunks.append({\n",
        "        \"id\": f\"PMC{pmcid}_abstract\",\n",
        "        \"source\": f\"PMC{pmcid}\",\n",
        "        \"section\": \"Abstract\",\n",
        "        \"content\": paper[\"abstract\"],\n",
        "        \"metadata\": {\n",
        "            \"title\": paper[\"title\"],\n",
        "            \"journal\": paper.get(\"journal_title\", \"\"),\n",
        "            \"authors\": [f\"{a.get('First_Name', '')} {a.get('Last_Name', '')}\".strip()\n",
        "                      for a in paper[\"authors\"][:3]],  # First 3 authors\n",
        "            \"content_type\": \"abstract\",\n",
        "            \"word_count\": len(paper[\"abstract\"].split())\n",
        "        }\n",
        "    })\n",
        "\n",
        "    # Add each section as a chunk\n",
        "    for section, content in paper[\"body\"].items():\n",
        "        rag_chunks.append({\n",
        "            \"id\": f\"PMC{pmcid}_{section.lower().replace(' ', '_')}\",\n",
        "            \"source\": f\"PMC{pmcid}\",\n",
        "            \"section\": section,\n",
        "            \"content\": content,\n",
        "            \"metadata\": {\n",
        "                \"title\": paper[\"title\"],\n",
        "                \"journal\": paper.get(\"journal_title\", \"\"),\n",
        "                \"content_type\": \"section\",\n",
        "                \"word_count\": len(content.split())\n",
        "            }\n",
        "        })\n",
        "\n",
        "print(f\"Created {len(rag_chunks)} RAG chunks from {len(dataset)} papers\")\n",
        "avg_word_count = sum(chunk[\"metadata\"][\"word_count\"] for chunk in rag_chunks) / len(rag_chunks)\n",
        "print(f\"Average chunk size: {avg_word_count:.0f} words\")\n",
        "\n",
        "# Show a sample chunk\n",
        "print(\"\\nSAMPLE RAG CHUNK:\")\n",
        "print(\"=\" * 50)\n",
        "sample_chunk = rag_chunks[0]\n",
        "print(f\"ID: {sample_chunk['id']}\")\n",
        "print(f\"Section: {sample_chunk['section']}\")\n",
        "print(f\"Word Count: {sample_chunk['metadata']['word_count']}\")\n",
        "print(f\"Content Preview: {sample_chunk['content'][:200]}...\")"
      ]
    },
    {
      "cell_type": "markdown",
      "metadata": {
        "vscode": {
          "languageId": "raw"
        }
      },
      "source": [
        "## Step 5: Save Your Data\n",
        "\n",
        "Let's save all the processed data for future use:\n"
      ]
    },
    {
      "cell_type": "code",
      "execution_count": null,
      "metadata": {},
      "outputs": [
        {
          "name": "stdout",
          "output_type": "stream",
          "text": [
            "Saving all data to: pmcgrab_tutorial_output\n",
            "Saved 3 individual paper files to pmcgrab_tutorial_output/papers\n",
            "Saved 23 RAG chunks to rag_chunks.json\n",
            "\n",
            " ALL DATA SAVED SUCCESSFULLY!\n",
            " Check the 'pmcgrab_tutorial_output' folder for all your files\n"
          ]
        }
      ],
      "source": [
        "# Create output directory\n",
        "output_dir = Path(\"pmcgrab_tutorial_output\")\n",
        "output_dir.mkdir(exist_ok=True)\n",
        "\n",
        "print(f\"Saving all data to: {output_dir}\")\n",
        "\n",
        "# 1. Save raw paper data\n",
        "papers_dir = output_dir / \"papers\"\n",
        "papers_dir.mkdir(exist_ok=True)\n",
        "\n",
        "for pmcid, paper in dataset.items():\n",
        "    with open(papers_dir / f\"PMC{pmcid}.json\", \"w\", encoding=\"utf-8\") as f:\n",
        "        json.dump(paper, f, indent=2, ensure_ascii=False)\n",
        "\n",
        "print(f\"Saved {len(dataset)} individual paper files to {papers_dir}\")\n",
        "\n",
        "# 2. Save RAG chunks\n",
        "with open(output_dir / \"rag_chunks.json\", \"w\", encoding=\"utf-8\") as f:\n",
        "    json.dump(rag_chunks, f, indent=2, ensure_ascii=False)\n",
        "\n",
        "print(f\"Saved {len(rag_chunks)} RAG chunks to rag_chunks.json\")\n",
        "\n",
        "print(\"\\nALL DATA SAVED SUCCESSFULLY!\")\n",
        "print(f\"Check the '{output_dir}' folder for all your files\")\n"
      ]
    },
    {
      "cell_type": "markdown",
      "metadata": {
        "vscode": {
          "languageId": "raw"
        }
      },
      "source": [
        "## Next Steps & Advanced Usage\n",
        "\n",
        "Congratulations! You've successfully:\n",
        "\n",
        "- Processed multiple scientific papers from PMC\n",
        "- Analyzed the structured data\n",
        "- Prepared data for RAG workflows\n",
        "- Saved everything in organized formats\n",
        "\n",
        "### What You Can Do Next:\n",
        "\n",
        "1. **Scale Up**: Process hundreds or thousands of papers using PMCGrab's batch processing\n",
        "2. **Vector Database**: Load your RAG chunks into Pinecone, Weaviate, or ChromaDB\n",
        "3. **Fine-tune Models**: Use training examples to fine-tune GPT, Llama, or other LLMs\n",
        "4. **Build Knowledge Graphs**: Use Neo4j or similar to create interactive knowledge networks\n",
        "5. **Research Analysis**: Apply NLP techniques to analyze trends, topics, and relationships\n",
        "\n",
        "### Resources:\n",
        "\n",
        "- **[PMCGrab Documentation](https://rajdeepmondaldotcom.github.io/pmcgrab/)**\n",
        "- **[Complete Beginner Guide](../docs/getting-started/complete-beginner-guide.md)**\n",
        "- **[Advanced Usage Examples](https://rajdeepmondaldotcom.github.io/pmcgrab/examples/advanced-usage/)**\n",
        "- **[GitHub Repository](https://github.com/rajdeepmondaldotcom/pmcgrab)**\n",
        "\n",
        "### Command Line Usage:\n",
        "\n",
        "PMCGrab also works from the command line for large-scale processing:\n",
        "\n",
        "```bash\n",
        "# Process multiple papers with uv (recommended)\n",
        "uv run python -m pmcgrab --pmcids 7114487 3084273 7181753 --workers 4\n",
        "\n",
        "# Or with regular Python\n",
        "python -m pmcgrab --pmcids 7114487 3084273 --output-dir ./results\n",
        "```\n",
        "\n",
        "### Pro Tips:\n",
        "\n",
        "- Use `uv run` for faster execution and dependency management\n",
        "- Use `--workers N` flag for parallel processing when running from command line\n",
        "- PMCGrab handles rate limiting automatically, so you don't need to worry about NCBI limits\n",
        "- The JSON structure is designed specifically for AI workflows - each section is cleanly separated\n",
        "- For large datasets, consider streaming processing to avoid memory issues\n",
        "\n",
        "**PMCGrab transforms the most time-consuming part of biomedical AI workflows into a simple API call.**\n",
        "\n",
        "*Happy processing!*\n"
      ]
    }
  ],
  "metadata": {
    "kernelspec": {
      "display_name": ".venv",
      "language": "python",
      "name": "python3"
    },
    "language_info": {
      "codemirror_mode": {
        "name": "ipython",
        "version": 3
      },
      "file_extension": ".py",
      "mimetype": "text/x-python",
      "name": "python",
      "nbconvert_exporter": "python",
      "pygments_lexer": "ipython3",
      "version": "3.12.11"
    }
  },
  "nbformat": 4,
  "nbformat_minor": 2
}
